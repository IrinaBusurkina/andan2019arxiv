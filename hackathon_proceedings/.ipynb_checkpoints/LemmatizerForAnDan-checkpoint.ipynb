{
 "cells": [
  {
   "cell_type": "code",
   "execution_count": 3,
   "metadata": {},
   "outputs": [],
   "source": [
    "import re, codecs\n",
    "from os import walk\n",
    "import csv\n",
    "from nltk.tokenize import word_tokenize\n",
    "from nltk.stem import WordNetLemmatizer\n",
    "wordnet_lemmatizer = WordNetLemmatizer()\n",
    "from nltk import pos_tag"
   ]
  },
  {
   "cell_type": "code",
   "execution_count": 4,
   "metadata": {},
   "outputs": [],
   "source": [
    "def pt_to_wn(pos):\n",
    "    \"\"\"\n",
    "    Takes a Penn Treebank tag and converts it to an\n",
    "    appropriate WordNet equivalent for lemmatization.\n",
    "\n",
    "    A list of Penn Treebank tags is available at:\n",
    "    https://www.ling.upenn.edu/courses/Fall_2003/ling001/penn_treebank_pos.html\n",
    "    \"\"\"\n",
    "\n",
    "    from nltk.corpus.reader.wordnet import NOUN, VERB, ADJ, ADV\n",
    "\n",
    "    pos = pos.lower()\n",
    "\n",
    "    if pos.startswith('jj'):\n",
    "        tag = ADJ\n",
    "    elif pos == 'md':\n",
    "        # Modal auxiliary verbs\n",
    "        tag = VERB\n",
    "    elif pos.startswith('rb'):\n",
    "        tag = ADV\n",
    "    elif pos.startswith('vb'):\n",
    "        tag = VERB\n",
    "    elif pos == 'wrb':\n",
    "        # Wh-adverb (how, however, whence, whenever...)\n",
    "        tag = ADV\n",
    "    else:\n",
    "        # default to NOUN\n",
    "        # This is not strictly correct, but it is good\n",
    "        # enough for lemmatization.\n",
    "        tag = NOUN\n",
    "\n",
    "    return tag"
   ]
  },
  {
   "cell_type": "code",
   "execution_count": 5,
   "metadata": {},
   "outputs": [],
   "source": [
    "def lemmatize_string (some_string):               \n",
    "    tokenized_line = word_tokenize(some_string)\n",
    "    pos_tagged_line = pos_tag (tokenized_line)\n",
    "    outstring = ''\n",
    "    for pos_tagged_word in pos_tagged_line:\n",
    "        word = pos_tagged_word[0]\n",
    "        tag = pos_tagged_word[1]\n",
    "        lemword = wordnet_lemmatizer.lemmatize(word, pt_to_wn (tag))\n",
    "        outstring += lemword + \" \"\n",
    "    return outstring"
   ]
  },
  {
   "cell_type": "code",
   "execution_count": 23,
   "metadata": {},
   "outputs": [],
   "source": [
    "def add_lemmatized_abstracts(filepath, newpath):\n",
    "    linecounter = 0\n",
    "    new_file = codecs.open(newpath,'w','utf-8')\n",
    "    with open(filepath) as csv_file:\n",
    "        csv_reader = csv.reader(csv_file, delimiter=',')\n",
    "        for row in csv_reader:\n",
    "            #print (type(row))\n",
    "            linecounter += 1\n",
    "            #print (linecounter)\n",
    "            if linecounter % 100 == 0: \n",
    "                print (linecounter)\n",
    "            #splitline = line.split ('№')\n",
    "            abstract = row[4]\n",
    "            lemm_abstract = lemmatize_string (abstract)\n",
    "            #print (abstract)\n",
    "            #print ('AND NOW LEMM:')\n",
    "            #print (lemm_abstract)\n",
    "            newline = '\"' + '\",\"'.join (row [:5]) + '\",\"' + lemm_abstract+ '\",\"' + '\",\"'.join (row[5:]) + '\"' + '\\n'\n",
    "            new_file.write (newline)\n",
    "        #print (newline)\n",
    "    #open_file.close()\n",
    "    new_file.close()"
   ]
  },
  {
   "cell_type": "code",
   "execution_count": 24,
   "metadata": {},
   "outputs": [
    {
     "name": "stdout",
     "output_type": "stream",
     "text": [
      "100\n",
      "200\n",
      "300\n"
     ]
    }
   ],
   "source": [
    "filepath = '../data_examples/arxiv_data_small_301.csv'\n",
    "newpath = '../data_examples/arxiv_data_small_301_lemm.csv'\n",
    "#open_file = codecs.open(filepath,'r','utf-8')\n",
    "add_lemmatized_abstracts (filepath, newpath)"
   ]
  },
  {
   "cell_type": "code",
   "execution_count": null,
   "metadata": {},
   "outputs": [],
   "source": []
  }
 ],
 "metadata": {
  "kernelspec": {
   "display_name": "Python 3",
   "language": "python",
   "name": "python3"
  },
  "language_info": {
   "codemirror_mode": {
    "name": "ipython",
    "version": 3
   },
   "file_extension": ".py",
   "mimetype": "text/x-python",
   "name": "python",
   "nbconvert_exporter": "python",
   "pygments_lexer": "ipython3",
   "version": "3.6.5"
  }
 },
 "nbformat": 4,
 "nbformat_minor": 2
}
